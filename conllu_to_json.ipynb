{
  "nbformat": 4,
  "nbformat_minor": 0,
  "metadata": {
    "colab": {
      "provenance": []
    },
    "kernelspec": {
      "name": "python3",
      "display_name": "Python 3"
    },
    "language_info": {
      "name": "python"
    }
  },
  "cells": [
    {
      "cell_type": "markdown",
      "source": [
        "Софья Черноусенко БКЛ223"
      ],
      "metadata": {
        "id": "b9WqhcKZqfiG"
      }
    },
    {
      "cell_type": "markdown",
      "source": [
        "Написать программу, генерирующую JSON-представление дерева зависимостей предложения по его записи в формате CONLLU."
      ],
      "metadata": {
        "id": "TlzqevzE9Lm9"
      }
    },
    {
      "cell_type": "code",
      "source": [
        "!pip install conllu"
      ],
      "metadata": {
        "colab": {
          "base_uri": "https://localhost:8080/"
        },
        "id": "ykJ67cQ6MRsP",
        "outputId": "5a1f5fa9-0158-469d-fc2c-b9b83258ddf3"
      },
      "execution_count": null,
      "outputs": [
        {
          "output_type": "stream",
          "name": "stdout",
          "text": [
            "Requirement already satisfied: conllu in /usr/local/lib/python3.10/dist-packages (4.5.3)\n"
          ]
        }
      ]
    },
    {
      "cell_type": "code",
      "source": [
        "import json\n",
        "from conllu import parse_incr"
      ],
      "metadata": {
        "id": "hF-bldfeMAsg"
      },
      "execution_count": null,
      "outputs": []
    },
    {
      "cell_type": "markdown",
      "source": [
        "Основная функция. Считывает файл, парсит нужные элементы, добавляет вершины и их зависимые в словарь, а потом записывает в файл"
      ],
      "metadata": {
        "id": "tm3BRgtMP3n_"
      }
    },
    {
      "cell_type": "code",
      "source": [
        "def build_json_tree(filename):\n",
        "  with open(filename, \"r\", encoding=\"utf-8\") as file:\n",
        "    sentence = list(parse_incr(file))[0]\n",
        "    words = [[s['id'], s['lemma'], s['head']] for s in sentence]\n",
        "    tokens = [str(w[0]) + '.' + w[1] for w in words]\n",
        "    nodes = {'0.root': {}}\n",
        "    for token in tokens:\n",
        "      nodes[token] = {}\n",
        "    for i, word in enumerate(words):\n",
        "      head = word[2]\n",
        "      node = tokens[i]\n",
        "      for n in nodes:\n",
        "        if head == int(n.split('.')[0]):\n",
        "          nodes[n][node] = nodes[node]\n",
        "    with open('tree.json', 'w', encoding='utf-8') as f:\n",
        "      json.dump((tree), f, ensure_ascii = False)\n",
        "    return nodes"
      ],
      "metadata": {
        "id": "7GOvt7LcqG-R"
      },
      "execution_count": 84,
      "outputs": []
    },
    {
      "cell_type": "markdown",
      "source": [
        "Пример работы"
      ],
      "metadata": {
        "id": "er-JYiPVQUtI"
      }
    },
    {
      "cell_type": "code",
      "source": [
        "tree = build_json_tree('sample.conllu')\n",
        "tree['0.root']"
      ],
      "metadata": {
        "colab": {
          "base_uri": "https://localhost:8080/"
        },
        "id": "g-nlaPhWT7MH",
        "outputId": "a07efde6-7777-4dbc-c5d7-d5c10e8d4b38"
      },
      "execution_count": 85,
      "outputs": [
        {
          "output_type": "execute_result",
          "data": {
            "text/plain": [
              "{'9.использовать': {'3.трактовка': {'1.в': {}, '2.старый': {}},\n",
              "  '5.слово': {'4.вместо': {}, '7.порядок': {'6.\"': {}, '8.\"': {}}},\n",
              "  '10.слово': {'12.последовательность': {'11.\"': {}, '13.\"': {}}},\n",
              "  '27.стать': {'14.,': {},\n",
              "   '15.но': {},\n",
              "   '18.развитие': {'16.по': {'17.мера': {}},\n",
              "    '19.параллельность': {'21.работа': {'20.в': {}, '22.компьютер': {}}}},\n",
              "   '28.заменять': {'23.слово': {'25.последовательность': {'24.\"': {},\n",
              "      '26.\"': {}}},\n",
              "    '31.слово': {'30.общий': {'29.более': {}},\n",
              "     '33.порядок': {'32.\"': {}, '34.\"': {}}}}},\n",
              "  '35..': {}}}"
            ]
          },
          "metadata": {},
          "execution_count": 85
        }
      ]
    }
  ]
}